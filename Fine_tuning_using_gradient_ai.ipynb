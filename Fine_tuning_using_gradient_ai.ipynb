{
  "nbformat": 4,
  "nbformat_minor": 0,
  "metadata": {
    "colab": {
      "provenance": [],
      "authorship_tag": "ABX9TyOCZRDa1BIUxcKYYUugUg3+",
      "include_colab_link": true
    },
    "kernelspec": {
      "name": "python3",
      "display_name": "Python 3"
    },
    "language_info": {
      "name": "python"
    }
  },
  "cells": [
    {
      "cell_type": "markdown",
      "metadata": {
        "id": "view-in-github",
        "colab_type": "text"
      },
      "source": [
        "<a href=\"https://colab.research.google.com/github/praveenaiiisc/Fine_Tune_project/blob/main/Fine_tuning_using_gradient_ai.ipynb\" target=\"_parent\"><img src=\"https://colab.research.google.com/assets/colab-badge.svg\" alt=\"Open In Colab\"/></a>"
      ]
    },
    {
      "cell_type": "code",
      "execution_count": 1,
      "metadata": {
        "id": "ndvoVsDHNivD",
        "colab": {
          "base_uri": "https://localhost:8080/"
        },
        "outputId": "b77a7718-5d76-4cc1-a6fa-40de2387585c"
      },
      "outputs": [
        {
          "output_type": "stream",
          "name": "stdout",
          "text": [
            "Collecting gradientai\n",
            "  Downloading gradientai-1.13.0-py3-none-any.whl (397 kB)\n",
            "\u001b[2K     \u001b[90m━━━━━━━━━━━━━━━━━━━━━━━━━━━━━━━━━━━━━━━━\u001b[0m \u001b[32m397.7/397.7 kB\u001b[0m \u001b[31m4.1 MB/s\u001b[0m eta \u001b[36m0:00:00\u001b[0m\n",
            "\u001b[?25hCollecting aenum>=3.1.11 (from gradientai)\n",
            "  Downloading aenum-3.1.15-py3-none-any.whl (137 kB)\n",
            "\u001b[2K     \u001b[90m━━━━━━━━━━━━━━━━━━━━━━━━━━━━━━━━━━━━━━━━\u001b[0m \u001b[32m137.6/137.6 kB\u001b[0m \u001b[31m5.2 MB/s\u001b[0m eta \u001b[36m0:00:00\u001b[0m\n",
            "\u001b[?25hRequirement already satisfied: pydantic<3,>=1.10.15 in /usr/local/lib/python3.10/dist-packages (from gradientai) (2.7.4)\n",
            "Requirement already satisfied: python-dateutil>=2.8.2 in /usr/local/lib/python3.10/dist-packages (from gradientai) (2.8.2)\n",
            "Requirement already satisfied: urllib3>=1.25.3 in /usr/local/lib/python3.10/dist-packages (from gradientai) (2.0.7)\n",
            "Requirement already satisfied: annotated-types>=0.4.0 in /usr/local/lib/python3.10/dist-packages (from pydantic<3,>=1.10.15->gradientai) (0.7.0)\n",
            "Requirement already satisfied: pydantic-core==2.18.4 in /usr/local/lib/python3.10/dist-packages (from pydantic<3,>=1.10.15->gradientai) (2.18.4)\n",
            "Requirement already satisfied: typing-extensions>=4.6.1 in /usr/local/lib/python3.10/dist-packages (from pydantic<3,>=1.10.15->gradientai) (4.12.2)\n",
            "Requirement already satisfied: six>=1.5 in /usr/local/lib/python3.10/dist-packages (from python-dateutil>=2.8.2->gradientai) (1.16.0)\n",
            "Installing collected packages: aenum, gradientai\n",
            "Successfully installed aenum-3.1.15 gradientai-1.13.0\n"
          ]
        }
      ],
      "source": [
        "!pip install gradientai --upgrade"
      ]
    },
    {
      "cell_type": "code",
      "source": [
        "import os\n",
        "os.environ['GRADIENT_WORKSPACE_ID']='36d8e7b6-71a6-408a-910c-1792ec2612d8_workspace'\n",
        "os.environ['GRADIENT_ACCESS_TOKEN']='a9cJAr01BZ0xz6y1koZCXT6JLmbEB4Yv'"
      ],
      "metadata": {
        "id": "IAuSMhjN0ZLC"
      },
      "execution_count": 2,
      "outputs": []
    },
    {
      "cell_type": "code",
      "source": [
        "!pip install python-dotenv"
      ],
      "metadata": {
        "colab": {
          "base_uri": "https://localhost:8080/"
        },
        "id": "Lzq5zaLq6Jb8",
        "outputId": "97cdbde4-74ec-4443-b4e2-ba7a3897891f"
      },
      "execution_count": 5,
      "outputs": [
        {
          "output_type": "stream",
          "name": "stdout",
          "text": [
            "Collecting python-dotenv\n",
            "  Downloading python_dotenv-1.0.1-py3-none-any.whl (19 kB)\n",
            "Installing collected packages: python-dotenv\n",
            "Successfully installed python-dotenv-1.0.1\n"
          ]
        }
      ]
    },
    {
      "cell_type": "code",
      "source": [
        "from gradientai import Gradient\n",
        "from dotenv import load_dotenv\n",
        "load_dotenv()\n",
        "\n",
        "def main():\n",
        "    gradient = Gradient()\n",
        "\n",
        "    base_model = gradient.get_base_model(base_model_slug=\"nous-hermes2\")\n",
        "\n",
        "    new_model_adapter = base_model.create_model_adapter(\n",
        "        name=\"Praveen_Model\"\n",
        "    )\n",
        "    print(f\"Created model adapter with id {new_model_adapter.id}\")\n",
        "\n",
        "    new_model_adapter.fine_tune(samples=[{\"inputs\": \"princess, dragon, castle\"}])\n",
        "    sample_query = \"### Instructions: Who is Praveen Tiwari?? \\n\\n ### Response:\"\n",
        "    print(f\"Asking: {sample_query}\")\n",
        "\n",
        "    ### Before FineTuning\n",
        "    completion = new_model_adapter.complete(query=sample_query, max_generated_token_count=100).generated_output\n",
        "    print(f\"Generated: {completion}\")\n",
        "\n",
        "    samples=[\n",
        "        {\"inputs\":\"### Instructions:Who is Praveen Tiwari?? \\n\\n ### Response: Praveen Tiwari is a IIScian\"},\n",
        "        {\"inputs\":\"### Instructions:Who is this person named Praveen Tiwari?? \\n\\n ### Response: Praveen Tiwari is currently doing MTech from IISc\"},\n",
        "        {\"inputs\":\"### Instructions:What do you know about Praveen Tiwari?? \\n\\n ### Response: Praveen Tiwari is a MTech Ai student in IISc\"},\n",
        "        {\"inputs\":\"### Instructions:Can you tell me about Praveen Tiwari?? \\n\\n ### Response: Praveen Tiwari has a good knowledge in the feild of AI\"}\n",
        "\n",
        "    ]\n",
        "    # Define parameter for finetuning\n",
        "    num_epochs = 3\n",
        "    count=0\n",
        "    while count<num_epochs:\n",
        "        print(f\"Fine tuning the model with iteration {count+1}\")\n",
        "        new_model_adapter.fine_tune(samples=samples)\n",
        "        count+=1\n",
        "    # After fine tuning\n",
        "    completion = new_model_adapter.complete(query=sample_query, max_generated_token_count=100).generated_output\n",
        "    print(f\"Generated(after fine tuning): {completion}\")\n",
        "    # new_model_adapter.delete()\n",
        "    gradient.close()\n",
        "\n",
        "if __name__ == \"__main__\":\n",
        "    main()"
      ],
      "metadata": {
        "colab": {
          "base_uri": "https://localhost:8080/"
        },
        "id": "DGlGJbzw0sMa",
        "outputId": "dcd52ceb-e243-4f50-f521-97209d3cab6a"
      },
      "execution_count": 8,
      "outputs": [
        {
          "output_type": "stream",
          "name": "stdout",
          "text": [
            "Created model adapter with id 8ee41f52-efc1-4762-b5b8-289390cb85d7_model_adapter\n",
            "Asking: ### Instructions: Who is Praveen Tiwari?? \n",
            "\n",
            " ### Response:\n",
            "Generated:  Praveen Tiwari is an Indian politician and a member of the Bharatiya Janata Party (BJP). He is currently serving as the Member of Parliament (MP) from the Kannauj constituency in Uttar Pradesh. He was elected to the 17th Lok Sabha in the 2019 Indian general election.\n",
            "Fine tuning the model with iteration 1\n",
            "Fine tuning the model with iteration 2\n",
            "Fine tuning the model with iteration 3\n",
            "Generated(after fine tuning):  Praveen Tiwari is currently doing MTech from IISc Bangalore.\n"
          ]
        }
      ]
    },
    {
      "cell_type": "code",
      "source": [],
      "metadata": {
        "id": "h37XM1fx7XV7"
      },
      "execution_count": null,
      "outputs": []
    }
  ]
}